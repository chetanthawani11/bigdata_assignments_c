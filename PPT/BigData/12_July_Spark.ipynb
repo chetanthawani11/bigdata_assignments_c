{
 "cells": [
  {
   "cell_type": "code",
   "execution_count": null,
   "id": "b3dfe79c-71ab-463e-998f-9c7ca25d0a9d",
   "metadata": {},
   "outputs": [],
   "source": [
    "# Q1.Working with RDDs:\n",
    "\n",
    "# a) Create an RDD from a local data source:\n",
    "\n",
    "from pyspark import SparkContext\n",
    "\n",
    "sc = SparkContext(\"local\", \"RDD Example\")\n",
    "data = [1, 2, 3, 4, 5]\n",
    "rdd = sc.parallelize(data)\n",
    "\n",
    "# b) Implement transformations and actions on the RDD:\n",
    "\n",
    "squared_rdd = rdd.map(lambda x: x ** 2)\n",
    "sum_result = squared_rdd.reduce(lambda x, y: x + y)\n",
    "\n",
    "# c) Analyze and manipulate data using RDD operations:\n",
    "\n",
    "filtered_rdd = rdd.filter(lambda x: x % 2 == 0)\n",
    "max_value = rdd.max()\n",
    "min_value = rdd.min()"
   ]
  },
  {
   "cell_type": "code",
   "execution_count": null,
   "id": "43007c22-324f-4637-a3bd-ea84fe1febce",
   "metadata": {},
   "outputs": [],
   "source": [
    "# Q2.Spark DataFrame Operations:\n",
    "\n",
    "# a) Load a CSV file into a Spark DataFrame:\n",
    "\n",
    "from pyspark.sql import SparkSession\n",
    "\n",
    "spark = SparkSession.builder.appName(\"DataFrame Example\").getOrCreate()\n",
    "df = spark.read.csv(\"file.csv\", header=True, inferSchema=True)\n",
    "\n",
    "# b) Perform common DataFrame operations:\n",
    "\n",
    "filtered_df = df.filter(df[\"age\"] > 30)\n",
    "grouped_df = df.groupBy(\"department\").agg({\"salary\": \"avg\"})\n",
    "joined_df = df.join(other_df, on=\"id\", how=\"inner\")\n",
    "\n",
    "# c) Apply Spark SQL queries on the DataFrame:\n",
    "\n",
    "df.createOrReplaceTempView(\"employees\")\n",
    "result = spark.sql(\"SELECT * FROM employees WHERE age > 30\")"
   ]
  },
  {
   "cell_type": "code",
   "execution_count": null,
   "id": "71f6c113-bc90-42eb-8411-8cb5a72b58cd",
   "metadata": {},
   "outputs": [],
   "source": [
    "# Q3.Spark Streaming:\n",
    "\n",
    "# a) Create a Spark Streaming application:\n",
    "\n",
    "from pyspark.streaming import StreamingContext\n",
    "\n",
    "ssc = StreamingContext(sparkContext=sc, batchDuration=1)\n",
    "\n",
    "# b) Configure the application to consume data from a streaming source:\n",
    "\n",
    "stream = ssc.socketTextStream(\"localhost\", 9999)\n",
    "\n",
    "# c) Implement streaming transformations and actions:\n",
    "\n",
    "word_counts = stream.flatMap(lambda line: line.split(\" \")).map(lambda word: (word, 1)).reduceByKey(lambda a, b: a + b)\n",
    "word_counts.pprint()\n",
    "ssc.start()\n",
    "ssc.awaitTermination()"
   ]
  },
  {
   "cell_type": "code",
   "execution_count": null,
   "id": "43b265d9-67d7-4dbf-aa7c-b9d6f62ab5f1",
   "metadata": {},
   "outputs": [],
   "source": [
    "# Q4.Spark SQL and Data Source Integration:\n",
    "\n",
    "# a) Connect Spark with a relational database:\n",
    "\n",
    "from pyspark.sql import SparkSession\n",
    "\n",
    "spark = SparkSession.builder.appName(\"Spark SQL Example\").config(\"spark.driver.extraClassPath\", \"mysql-connector-java.jar\").getOrCreate()\n",
    "df = spark.read.format(\"jdbc\").options(\n",
    "    url=\"jdbc:mysql://localhost:3306/database_name\",\n",
    "    driver=\"com.mysql.jdbc.Driver\",\n",
    "    dbtable=\"table_name\",\n",
    "    user=\"username\",\n",
    "    password=\"password\"\n",
    ").load()\n",
    "\n",
    "# b) Perform SQL operations on the data stored in the database:\n",
    "\n",
    "df.createOrReplaceTempView(\"data_table\")\n",
    "result = spark.sql(\"SELECT * FROM data_table WHERE age > 30\")\n",
    "\n",
    "# c) Explore integration capabilities with other data sources:\n",
    "\n",
    "df = spark.read.csv(\"hdfs://localhost:9000/path/to/file.csv\", header=True, inferSchema=True)\n",
    "df = spark.read.json(\"s3a://bucket/path/to/file.json\")\n",
    "df = spark.read.parquet(\"s3a://bucket/path/to/file.parquet\")"
   ]
  },
  {
   "cell_type": "code",
   "execution_count": null,
   "id": "58c95fdf-76e9-4b53-910f-ee07bcf0e170",
   "metadata": {},
   "outputs": [],
   "source": []
  }
 ],
 "metadata": {
  "kernelspec": {
   "display_name": "Python 3 (ipykernel)",
   "language": "python",
   "name": "python3"
  },
  "language_info": {
   "codemirror_mode": {
    "name": "ipython",
    "version": 3
   },
   "file_extension": ".py",
   "mimetype": "text/x-python",
   "name": "python",
   "nbconvert_exporter": "python",
   "pygments_lexer": "ipython3",
   "version": "3.10.6"
  }
 },
 "nbformat": 4,
 "nbformat_minor": 5
}
