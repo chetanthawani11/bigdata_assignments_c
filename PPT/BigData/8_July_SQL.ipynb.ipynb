{
 "cells": [
  {
   "cell_type": "code",
   "execution_count": 1,
   "id": "b9bd8fad-18bd-4fba-9f1e-48e3b5f5e779",
   "metadata": {},
   "outputs": [
    {
     "ename": "SyntaxError",
     "evalue": "invalid syntax (33267512.py, line 3)",
     "output_type": "error",
     "traceback": [
      "\u001b[0;36m  Cell \u001b[0;32mIn [1], line 3\u001b[0;36m\u001b[0m\n\u001b[0;31m    SELECT Name, Email\u001b[0m\n\u001b[0m           ^\u001b[0m\n\u001b[0;31mSyntaxError\u001b[0m\u001b[0;31m:\u001b[0m invalid syntax\n"
     ]
    }
   ],
   "source": [
    "# 1. Write an SQL query to retrieve the names and email addresses of all employees from a table named \"Employees\".\n",
    "\n",
    "SELECT Name, Email\n",
    "FROM Employees;\n"
   ]
  },
  {
   "cell_type": "code",
   "execution_count": null,
   "id": "67b23006-914e-4f0c-9e28-c4f5c275821d",
   "metadata": {},
   "outputs": [],
   "source": [
    "# 2. Write an SQL query to filter records from a table named \"Customers\" where the \"City\" column is 'New York'.\n",
    "\n",
    "SELECT *\n",
    "FROM Customers\n",
    "WHERE City = 'New York';\n"
   ]
  },
  {
   "cell_type": "code",
   "execution_count": null,
   "id": "c698ad9d-0510-4f34-94f1-e55dab18e03f",
   "metadata": {},
   "outputs": [],
   "source": [
    "# 3. Write an SQL query to sort records in descending order based on the \"DateOfBirth\" column in a table named \"Users\".\n",
    "\n",
    "SELECT *\n",
    "FROM Users\n",
    "ORDER BY DateOfBirth DESC;\n"
   ]
  },
  {
   "cell_type": "code",
   "execution_count": null,
   "id": "88402455-95f4-4197-8002-19fdc69eba61",
   "metadata": {},
   "outputs": [],
   "source": [
    "# 4. Write an SQL query to sort records in ascending order based on the \"RegistrationDate\" column in a table named \"Users\".\n",
    "\n",
    "SELECT *\n",
    "FROM Users\n",
    "ORDER BY RegistrationDate ASC;\n"
   ]
  },
  {
   "cell_type": "code",
   "execution_count": null,
   "id": "b2c218fd-5fd8-4f9c-9af8-800f6bae5bfe",
   "metadata": {},
   "outputs": [],
   "source": [
    "# 5. Write an SQL query to find the employee with the highest salary from a table named \"Employees\" and display their name, position, and salary.\n",
    "\n",
    "SELECT Name, Position, Salary\n",
    "FROM Employees\n",
    "WHERE Salary = (SELECT MAX(Salary) FROM Employees);\n"
   ]
  },
  {
   "cell_type": "code",
   "execution_count": null,
   "id": "489624fc-cc82-4cc0-811a-a426396ef9f6",
   "metadata": {},
   "outputs": [],
   "source": [
    "# 6. Write an SQL query to retrieve records from a table named \"Customers\" where the \"Phone\" column matches the pattern '+1-XXX-XXX-XXXX'.\n",
    "\n",
    "SELECT *\n",
    "FROM Customers\n",
    "WHERE Phone LIKE '+1-___-___-____';\n"
   ]
  },
  {
   "cell_type": "code",
   "execution_count": null,
   "id": "b06f77bb-85ce-4438-acb7-589a15f8121a",
   "metadata": {},
   "outputs": [],
   "source": [
    "# 7. Write an SQL query to retrieve the top 5 customers with the highest total purchase amount from a table named \"Orders\" and display their names and total purchase amounts.\n",
    "\n",
    "SELECT Customers.Name, SUM(Orders.PurchaseAmount) AS TotalPurchaseAmount\n",
    "FROM Customers\n",
    "JOIN Orders ON Customers.CustomerID = Orders.CustomerID\n",
    "GROUP BY Customers.Name\n",
    "ORDER BY TotalPurchaseAmount DESC\n",
    "LIMIT 5;\n"
   ]
  },
  {
   "cell_type": "code",
   "execution_count": null,
   "id": "9083a803-ba5c-447d-aa9e-dde76db06f28",
   "metadata": {},
   "outputs": [],
   "source": [
    "# 8. Write an SQL query to calculate the percentage of sales for each product category in a table named \"Sales\" and display the category name, total sales amount, and the percentage of total sales.\n",
    "\n",
    "SELECT CategoryName, SUM(SalesAmount) AS TotalSalesAmount,\n",
    "       (SUM(SalesAmount) / (SELECT SUM(SalesAmount) FROM Sales)) * 100 AS PercentageOfSales\n",
    "FROM Sales\n",
    "GROUP BY CategoryName;\n"
   ]
  },
  {
   "cell_type": "code",
   "execution_count": null,
   "id": "5dbf1f34-5266-4d81-8a88-b30994648719",
   "metadata": {},
   "outputs": [],
   "source": [
    "# 9. Write an SQL query to find the customers who have made the highest total purchases across all years from a table named \"Orders\" and display their names, email addresses, and the total purchase amount.\n",
    "\n",
    "SELECT Customers.Name, Customers.Email, SUM(Orders.PurchaseAmount) AS TotalPurchaseAmount\n",
    "FROM Customers\n",
    "JOIN Orders ON Customers.CustomerID = Orders.CustomerID\n",
    "GROUP BY Customers.Name, Customers.Email\n",
    "HAVING TotalPurchaseAmount = (SELECT MAX(TotalPurchaseAmount) FROM\n",
    "                              (SELECT SUM(PurchaseAmount) AS TotalPurchaseAmount FROM Orders\n",
    "                               GROUP BY CustomerID) AS T);\n"
   ]
  },
  {
   "cell_type": "code",
   "execution_count": null,
   "id": "d3aa64a7-db73-4135-b296-ac0bac68994c",
   "metadata": {},
   "outputs": [],
   "source": []
  }
 ],
 "metadata": {
  "kernelspec": {
   "display_name": "Python 3 (ipykernel)",
   "language": "python",
   "name": "python3"
  },
  "language_info": {
   "codemirror_mode": {
    "name": "ipython",
    "version": 3
   },
   "file_extension": ".py",
   "mimetype": "text/x-python",
   "name": "python",
   "nbconvert_exporter": "python",
   "pygments_lexer": "ipython3",
   "version": "3.10.6"
  }
 },
 "nbformat": 4,
 "nbformat_minor": 5
}
