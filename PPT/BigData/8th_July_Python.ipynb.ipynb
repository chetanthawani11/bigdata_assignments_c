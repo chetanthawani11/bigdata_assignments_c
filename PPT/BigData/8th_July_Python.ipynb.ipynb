{
 "cells": [
  {
   "cell_type": "code",
   "execution_count": 1,
   "id": "8ac78912-a71c-43ef-98f8-73827b110567",
   "metadata": {},
   "outputs": [
    {
     "name": "stdout",
     "output_type": "stream",
     "text": [
      "listen and silent are anagrams.\n"
     ]
    }
   ],
   "source": [
    "# 1. Write a Python program to check if a given string is an anagram.\n",
    "\n",
    "def is_anagram(str1, str2):\n",
    "    # Remove whitespaces and convert strings to lowercase\n",
    "    str1 = str1.replace(\" \", \"\").lower()\n",
    "    str2 = str2.replace(\" \", \"\").lower()\n",
    "\n",
    "    # Sort the characters in both strings\n",
    "    sorted_str1 = sorted(str1)\n",
    "    sorted_str2 = sorted(str2)\n",
    "\n",
    "    # Check if the sorted strings are equal\n",
    "    return sorted_str1 == sorted_str2\n",
    "\n",
    "# Example usage\n",
    "string1 = \"listen\"\n",
    "string2 = \"silent\"\n",
    "if is_anagram(string1, string2):\n",
    "    print(f\"{string1} and {string2} are anagrams.\")\n",
    "else:\n",
    "    print(f\"{string1} and {string2} are not anagrams.\")\n"
   ]
  },
  {
   "cell_type": "code",
   "execution_count": 2,
   "id": "f0d709ce-5adf-4ac6-aa96-487797ec695f",
   "metadata": {},
   "outputs": [
    {
     "name": "stdout",
     "output_type": "stream",
     "text": [
      "Maximum score: 92\n",
      "Minimum score: 78\n"
     ]
    }
   ],
   "source": [
    "# 2. Write a Python program to find the maximum and minimum values in a dictionary.\n",
    "\n",
    "def find_max_min(dictionary):\n",
    "    # Get the values from the dictionary\n",
    "    values = dictionary.values()\n",
    "\n",
    "    # Find the maximum and minimum values\n",
    "    max_value = max(values)\n",
    "    min_value = min(values)\n",
    "\n",
    "    return max_value, min_value\n",
    "\n",
    "# Example usage\n",
    "scores = {\"Alice\": 85, \"Bob\": 92, \"Charlie\": 78, \"Diana\": 90}\n",
    "max_score, min_score = find_max_min(scores)\n",
    "print(f\"Maximum score: {max_score}\")\n",
    "print(f\"Minimum score: {min_score}\")\n"
   ]
  },
  {
   "cell_type": "code",
   "execution_count": 3,
   "id": "26f56313-7932-4b27-b8b7-40762e66f3f8",
   "metadata": {},
   "outputs": [
    {
     "name": "stdout",
     "output_type": "stream",
     "text": [
      "The average of the numbers is: 15.0\n"
     ]
    }
   ],
   "source": [
    "# 3. Write a Python program to find the average of a list of numbers.\n",
    "\n",
    "def calculate_average(numbers):\n",
    "    # Calculate the sum of the numbers\n",
    "    total = sum(numbers)\n",
    "\n",
    "    # Calculate the average\n",
    "    average = total / len(numbers)\n",
    "\n",
    "    return average\n",
    "\n",
    "# Example usage\n",
    "num_list = [5, 10, 15, 20, 25]\n",
    "avg = calculate_average(num_list)\n",
    "print(f\"The average of the numbers is: {avg}\")\n"
   ]
  },
  {
   "cell_type": "code",
   "execution_count": 4,
   "id": "a2811fac-89ba-40a0-b453-8a47bfbf14fa",
   "metadata": {},
   "outputs": [
    {
     "name": "stdout",
     "output_type": "stream",
     "text": [
      "String after removing vowels: Hll, Wrld!\n"
     ]
    }
   ],
   "source": [
    "# 4. Write a Python program to remove all vowels from a string.\n",
    "\n",
    "def remove_vowels(string):\n",
    "    # Define a set of vowels\n",
    "    vowels = set(\"aeiouAEIOU\")\n",
    "\n",
    "    # Remove vowels from the string\n",
    "    result = ''.join(char for char in string if char not in vowels)\n",
    "\n",
    "    return result\n",
    "\n",
    "# Example usage\n",
    "text = \"Hello, World!\"\n",
    "result = remove_vowels(text)\n",
    "print(f\"String after removing vowels: {result}\")\n"
   ]
  },
  {
   "cell_type": "code",
   "execution_count": 5,
   "id": "e7baa6b1-266f-40cc-b572-0e70449cae9c",
   "metadata": {},
   "outputs": [
    {
     "name": "stdout",
     "output_type": "stream",
     "text": [
      "The factorial of 5 is: 120\n"
     ]
    }
   ],
   "source": [
    "# 5. Write a Python function to calculate the factorial of a number using recursion.\n",
    "\n",
    "def factorial_recursive(n):\n",
    "    if n == 0:\n",
    "        return 1\n",
    "    else:\n",
    "        return n * factorial_recursive(n-1)\n",
    "\n",
    "# Example usage\n",
    "number = 5\n",
    "factorial = factorial_recursive(number)\n",
    "print(f\"The factorial of {number} is: {factorial}\")\n"
   ]
  },
  {
   "cell_type": "code",
   "execution_count": 6,
   "id": "c903cca5-7d86-4eda-953d-4973fdc10228",
   "metadata": {},
   "outputs": [
    {
     "name": "stdout",
     "output_type": "stream",
     "text": [
      "Merged and sorted list: [0, 1, 2, 3, 4, 5, 6, 7, 8, 9]\n"
     ]
    }
   ],
   "source": [
    "# 6. Write a Python program to merge two unsorted lists into a single sorted list using the merge sort algorithm.\n",
    "\n",
    "def merge_sort_merge(left, right):\n",
    "    # Merge two sorted lists into a single sorted list\n",
    "    merged = []\n",
    "    i, j = 0, 0\n",
    "\n",
    "    while i < len(left) and j < len(right):\n",
    "        if left[i] < right[j]:\n",
    "            merged.append(left[i])\n",
    "            i += 1\n",
    "        else:\n",
    "            merged.append(right[j])\n",
    "            j += 1\n",
    "\n",
    "    # Add remaining elements from either list\n",
    "    merged.extend(left[i:])\n",
    "    merged.extend(right[j:])\n",
    "\n",
    "    return merged\n",
    "\n",
    "def merge_sort(lst):\n",
    "    # Base case: if the list has only one element, return it\n",
    "    if len(lst) <= 1:\n",
    "        return lst\n",
    "\n",
    "    # Divide the list into two halves\n",
    "    mid = len(lst) // 2\n",
    "    left = lst[:mid]\n",
    "    right = lst[mid:]\n",
    "\n",
    "    # Recursively sort the two halves\n",
    "    left_sorted = merge_sort(left)\n",
    "    right_sorted = merge_sort(right)\n",
    "\n",
    "    # Merge the sorted halves\n",
    "    sorted_lst = merge_sort_merge(left_sorted, right_sorted)\n",
    "\n",
    "    return sorted_lst\n",
    "\n",
    "# Example usage\n",
    "list1 = [9, 5, 2, 7, 1]\n",
    "list2 = [6, 3, 8, 4, 0]\n",
    "merged_list = merge_sort(list1 + list2)\n",
    "print(f\"Merged and sorted list: {merged_list}\")\n"
   ]
  },
  {
   "cell_type": "code",
   "execution_count": 7,
   "id": "6b8a58b4-4d46-4d5e-ab30-d8c83768d418",
   "metadata": {},
   "outputs": [
    {
     "name": "stdout",
     "output_type": "stream",
     "text": [
      "The GCD of 54 and 24 is: 6\n"
     ]
    }
   ],
   "source": [
    "# 7. Write a Python program to find the GCD (Greatest Common Divisor) of two numbers.\n",
    "\n",
    "def gcd(a, b):\n",
    "    while b != 0:\n",
    "        a, b = b, a % b\n",
    "    return a\n",
    "\n",
    "# Example usage\n",
    "num1 = 54\n",
    "num2 = 24\n",
    "result = gcd(num1, num2)\n",
    "print(f\"The GCD of {num1} and {num2} is: {result}\")\n"
   ]
  },
  {
   "cell_type": "code",
   "execution_count": 8,
   "id": "81c5ed16-5b5a-43a4-a343-21d680e06658",
   "metadata": {},
   "outputs": [
    {
     "name": "stdout",
     "output_type": "stream",
     "text": [
      "The second-largest element is: 20\n"
     ]
    }
   ],
   "source": [
    "# 8. Write a Python program to find the second-largest element in a list.\n",
    "\n",
    "def find_second_largest(lst):\n",
    "    # Find the maximum element\n",
    "    max_num = max(lst)\n",
    "\n",
    "    # Remove the maximum element from the list\n",
    "    lst.remove(max_num)\n",
    "\n",
    "    # Find the new maximum element (which will be the second largest)\n",
    "    second_largest = max(lst)\n",
    "\n",
    "    return second_largest\n",
    "\n",
    "# Example usage\n",
    "numbers = [5, 10, 15, 20, 25]\n",
    "second_largest_num = find_second_largest(numbers)\n",
    "print(f\"The second-largest element is: {second_largest_num}\")\n"
   ]
  },
  {
   "cell_type": "code",
   "execution_count": 9,
   "id": "649a0736-7340-4ee3-b4d3-d91ea6270c70",
   "metadata": {},
   "outputs": [
    {
     "name": "stdout",
     "output_type": "stream",
     "text": [
      "The longest common subsequence is: ADH\n"
     ]
    }
   ],
   "source": [
    "# 9. Write a Python program to find the longest common subsequence between two strings using dynamic programming.\n",
    "\n",
    "def longest_common_subsequence(str1, str2):\n",
    "    # Create a matrix to store the lengths of common subsequences\n",
    "    m = len(str1)\n",
    "    n = len(str2)\n",
    "    dp = [[0] * (n+1) for _ in range(m+1)]\n",
    "\n",
    "    # Calculate the lengths of common subsequences\n",
    "    for i in range(1, m+1):\n",
    "        for j in range(1, n+1):\n",
    "            if str1[i-1] == str2[j-1]:\n",
    "                dp[i][j] = dp[i-1][j-1] + 1\n",
    "            else:\n",
    "                dp[i][j] = max(dp[i-1][j], dp[i][j-1])\n",
    "\n",
    "    # Construct the longest common subsequence\n",
    "    lcs = ''\n",
    "    i, j = m, n\n",
    "    while i > 0 and j > 0:\n",
    "        if str1[i-1] == str2[j-1]:\n",
    "            lcs = str1[i-1] + lcs\n",
    "            i -= 1\n",
    "            j -= 1\n",
    "        elif dp[i-1][j] > dp[i][j-1]:\n",
    "            i -= 1\n",
    "        else:\n",
    "            j -= 1\n",
    "\n",
    "    return lcs\n",
    "\n",
    "# Example usage\n",
    "string1 = \"ABCDGH\"\n",
    "string2 = \"AEDFHR\"\n",
    "lcs = longest_common_subsequence(string1, string2)\n",
    "print(f\"The longest common subsequence is: {lcs}\")\n"
   ]
  },
  {
   "cell_type": "code",
   "execution_count": null,
   "id": "cc184ab4-4849-4f38-87ea-d75ec486fffe",
   "metadata": {},
   "outputs": [],
   "source": []
  }
 ],
 "metadata": {
  "kernelspec": {
   "display_name": "Python 3 (ipykernel)",
   "language": "python",
   "name": "python3"
  },
  "language_info": {
   "codemirror_mode": {
    "name": "ipython",
    "version": 3
   },
   "file_extension": ".py",
   "mimetype": "text/x-python",
   "name": "python",
   "nbconvert_exporter": "python",
   "pygments_lexer": "ipython3",
   "version": "3.10.6"
  }
 },
 "nbformat": 4,
 "nbformat_minor": 5
}
